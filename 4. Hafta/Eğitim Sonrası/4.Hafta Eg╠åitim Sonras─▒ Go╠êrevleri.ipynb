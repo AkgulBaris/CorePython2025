{
 "cells": [
  {
   "cell_type": "markdown",
   "metadata": {},
   "source": [
    "# Problem 1\n",
    "`ogrenciler` adında bir sözlük oluşturunuz. Kullanıcıdan döngü yardımıyla 3 öğrenci için veri girmesini isteyerek öğrencilerin sırasıyla okul numarası, isim, soy isim, telefon numarası ve doğum tarihi bilgilerini alınız. Aldığınız öğrenci bilgilerini yine aynı döngü yardımıyla `ogrenciler` adındaki sözlükte saklayınız. Daha sonra öğrenci bilgilerinin bulunduğu sözlük yapısını ekrana bastırınız.\n",
    "\n"
   ]
  },
  {
   "cell_type": "code",
   "execution_count": 1,
   "metadata": {},
   "outputs": [
    {
     "name": "stdout",
     "output_type": "stream",
     "text": [
      "1. Öğrenci Bilgilerini Girin:\n",
      "\n",
      "\n",
      "2. Öğrenci Bilgilerini Girin:\n",
      "\n",
      "\n",
      "3. Öğrenci Bilgilerini Girin:\n",
      "\n",
      "\n",
      "Öğrenci Bilgileri:\n",
      "\n",
      "Okul No: 287\n",
      "İsim: Eren\n",
      "Soyisim: Akin\n",
      "Telefon: 55555555555\n",
      "Doğum Tarihi: 01.01.2000\n",
      "\n",
      "Okul No: 233\n",
      "İsim: Ali\n",
      "Soyisim: Yilmaz\n",
      "Telefon: 445544544545\n",
      "Doğum Tarihi: 02.02.1999\n",
      "\n",
      "Okul No: 856\n",
      "İsim: Veli\n",
      "Soyisim: Yilmaz\n",
      "Telefon: 343444365665\n",
      "Doğum Tarihi: 03.03.1987\n"
     ]
    }
   ],
   "source": [
    "ogrenciler = {}\n",
    "\n",
    "for i in range(3):\n",
    "    print(f\"{i+1}. Öğrenci Bilgilerini Girin:\")\n",
    "\n",
    "    okul_no = input(\"Okul Numarası: \")\n",
    "    isim = input(\"İsim: \")\n",
    "    soyisim = input(\"Soyisim: \")\n",
    "    telefon = input(\"Telefon Numarası: \")\n",
    "    dogum_tarihi = input(\"Doğum Tarihi (GG.AA.YYYY): \")\n",
    "\n",
    "    ogrenciler[okul_no] = {\n",
    "        \"İsim\": isim,\n",
    "        \"Soyisim\": soyisim,\n",
    "        \"Telefon\": telefon,\n",
    "        \"Doğum Tarihi\": dogum_tarihi\n",
    "    }\n",
    "\n",
    "    print(\"\\n\")  \n",
    "\n",
    "\n",
    "print(\"Öğrenci Bilgileri:\")\n",
    "for okul_no, bilgiler in ogrenciler.items():\n",
    "    print(f\"\\nOkul No: {okul_no}\")\n",
    "    for key, value in bilgiler.items():\n",
    "        print(f\"{key}: {value}\")\n"
   ]
  },
  {
   "cell_type": "markdown",
   "metadata": {},
   "source": [
    "# Problem 2\n",
    "\n",
    "### a - Biraz ısınarak başlayalım!\n",
    "\n",
    "```\n",
    "numbers = [5,10,10,15,15,15,20,20,20,20]\n",
    "```\n",
    "\n",
    "Yukarıda `numbers` adında 10 elemanlı bir liste verilmiştir. Bu listenin her elemanını kontrol eden ve tekrar eden elemanları bir kez olacak şekilde başka bir listeye kopyalayan bir program yazınız. Son olarak oluşturduğunuz listeyi ekrana bastırınız.\n",
    "\n",
    "\n",
    "\n",
    "\n",
    "```\n",
    ">Output\n",
    "[5, 10, 15, 20]\n",
    "```\n"
   ]
  },
  {
   "cell_type": "code",
   "execution_count": 1,
   "metadata": {},
   "outputs": [
    {
     "name": "stdout",
     "output_type": "stream",
     "text": [
      "[5, 10, 15, 20]\n"
     ]
    }
   ],
   "source": [
    "numbers = [5, 10, 10, 15, 15, 15, 20, 20, 20, 20]\n",
    "\n",
    "unique_numbers = list(set(numbers))\n",
    "\n",
    "unique_numbers.sort()\n",
    "\n",
    "print(unique_numbers)\n"
   ]
  },
  {
   "cell_type": "markdown",
   "metadata": {},
   "source": [
    "### 🌶️ b) Hadi işi biraz daha zorlaştıralım! \n",
    "\n",
    "\n",
    "Şimdiyse senden `numbers` isimli listedeki tekrar eden elemanları `repeatNumbers` adındaki listeye; tekrar etmeyen elemanları `uniqueNumbers`adındaki listeye kopyalayan yazmanı ve listeleri ekrana bastırmanı bekliyoruz\n",
    "\n",
    "```\n",
    ">Output\n",
    "Tekrar Eden Elemanlar: [10, 10, 15, 15, 15, 20, 20, 20, 20]\n",
    "Tekrar Etmeyen Elemanlar: [5]\n",
    "```"
   ]
  },
  {
   "cell_type": "code",
   "execution_count": null,
   "metadata": {},
   "outputs": [],
   "source": [
    "numbers = [5, 10, 10, 15, 15, 15, 20, 20, 20, 20]\n",
    "\n",
    "repeatNumbers = []\n",
    "uniqueNumbers = []\n",
    "\n",
    "count_dict = {}\n",
    "\n",
    "for num in numbers:\n",
    "    count_dict[num] = count_dict.get(num, 0) + 1\n",
    "\n",
    "for num in numbers:\n",
    "    if count_dict[num] > 1:\n",
    "        repeatNumbers.append(num)\n",
    "    elif count_dict[num] == 1:\n",
    "        uniqueNumbers.append(num)\n",
    "\n",
    "print(\"Tekrar Eden Elemanlar:\", repeatNumbers)\n",
    "print(\"Tekrar Etmeyen Elemanlar:\", uniqueNumbers)\n",
    "\n",
    "\n",
    "\n",
    "\n",
    "sn1 = {1, 2, 3, 4, 5}\n",
    "sn2 = {4, 5, 6, 7, 8}\n",
    "\n",
    "küme_kesişim = []\n",
    "Küme_fark = []\n",
    "Küme_Birleşim = []\n",
    "\n",
    "# Kesişim\n",
    "for i in sn1:\n",
    "    for a in sn2:\n",
    "        if i == a:\n",
    "            küme_kesişim.append(i)\n",
    "\n",
    "# Birleşim\n",
    "Küme_Birleşim = sn1.union(sn2)\n",
    "\n",
    "# Fark\n",
    "for i in sn1:\n",
    "    if i not in sn2:\n",
    "        Küme_fark.append(i)\n",
    "\n",
    "print(\"Küme Kesişim:\", küme_kesişim)\n",
    "print(\"Küme Birleşim:\", Küme_Birleşim)\n",
    "print(\"Küme Fark (sn1 - sn2):\", Küme_fark)\n"
   ]
  },
  {
   "cell_type": "markdown",
   "metadata": {},
   "source": [
    "# Problem 3\n",
    "sn1 = {1,2,3,4,5}\n",
    "\n",
    "sn2 = {4,5,6,7,8}\n",
    "\n",
    " Verilen 2 adet küme için kesişimlerini, farklarını ve birleşimlerini bulunuz. "
   ]
  },
  {
   "cell_type": "code",
   "execution_count": null,
   "metadata": {},
   "outputs": [],
   "source": [
    "sn1 = {1, 2, 3, 4, 5}\n",
    "sn2 = {4, 5, 6, 7, 8}\n",
    "\n",
    "kesisim = sn1.intersection(sn2)\n",
    "\n",
    "fark_sn1 = sn1.difference(sn2)\n",
    "\n",
    "fark_sn2 = sn2.difference(sn1)\n",
    "\n",
    "birlesim = sn1.union(sn2)\n",
    "\n",
    "print(f\"Kesişim: {kesisim}\")\n",
    "print(f\"sn1 - sn2 Farkı: {fark_sn1}\")\n",
    "print(f\"sn2 - sn1 Farkı: {fark_sn2}\")\n",
    "print(f\"Birleşim: {birlesim}\")\n"
   ]
  },
  {
   "cell_type": "markdown",
   "metadata": {},
   "source": [
    "# Problem 4\n",
    "\n",
    "Buradaki işlemlerimizin tamamı stringler içindir. Aşağıda verilecek olan metodlar için kendinizin örnek yaratması gerekmektedir. \n",
    "\n",
    "Örneğin `upper` için `string` değişkeni oluştururken` k = \"BAC\"` şeklinde oluşturmayınız. Bunun yerine k değişkenini `k = \"bac`\" şeklinde oluşturmanız `upper` metodundaki değişimi görebilmeniz için daha iyi olacaktır.\n",
    "\n",
    "Bütün metodlardaki değişimin gözle görülür şekilde değişimi beklenmektedir.\n",
    "\n",
    "\n",
    "1- capitalize(), lower(), upper(), swapcase(), title(), replace()\n",
    "\n",
    "2- endswith(), startswith(), find(), index(), count()\n",
    "\n",
    "3- split(), strip(), join(), islower(), isalpha(), isdigit()\n",
    "\n",
    "\n",
    "Yukarıdaki `string` metodlarındaki değişimleri görebildiğimiz bir program yazınız.\n"
   ]
  },
  {
   "cell_type": "code",
   "execution_count": 2,
   "metadata": {},
   "outputs": [
    {
     "name": "stdout",
     "output_type": "stream",
     "text": [
      "Python ogreniyorum\n",
      "python ogreniyorum\n",
      "PYTHON OGRENIYORUM\n",
      "pYTHON oGRENIYORUM\n",
      "Python Ogreniyorum\n",
      "Python Ogreniyorum\n",
      "\n",
      "----------------------------------------\n",
      "\n",
      "True\n",
      "True\n",
      "7\n",
      "10\n",
      "2\n",
      "\n",
      "----------------------------------------\n",
      "\n",
      "['Learn', 'Python', 'Programming']\n",
      "Learn Python Programming\n",
      "14. join('-'): Learn-Python-Programming\n",
      "15. islower(): False\n",
      "16. isalpha(): True\n",
      "17. isdigit(): True\n"
     ]
    }
   ],
   "source": [
    "text = \"Python Ogreniyorum\"\n",
    "\n",
    "print(text.capitalize())  \n",
    "print(text.lower())  \n",
    "print(text.upper()) \n",
    "print(text.swapcase())  \n",
    "print(text.title()) \n",
    "print(text.replace(\"world\", \"Python\")) \n",
    "\n",
    "print(\"\\n\" + \"-\"*40 + \"\\n\")\n",
    "\n",
    "text2 = \"Python is fun and Python is powerful\"\n",
    "\n",
    "print(text2.endswith(\"powerful\"))\n",
    "print(text2.startswith(\"Python\")) \n",
    "print(text2.find(\"is\")) \n",
    "print(text2.index(\"fun\")) \n",
    "print(text2.count(\"Python\"))\n",
    "\n",
    "print(\"\\n\" + \"-\"*40 + \"\\n\")\n",
    "\n",
    "text3 = \"  Learn Python Programming  \"\n",
    "\n",
    "print(text3.split()) \n",
    "print(text3.strip()) \n",
    "print(\"14. join('-'):\", \"-\".join([\"Learn\", \"Python\", \"Programming\"]))  \n",
    "print(\"15. islower():\", text3.islower())  \n",
    "print(\"16. isalpha():\", \"Python\".isalpha())  \n",
    "print(\"17. isdigit():\", \"12345\".isdigit())"
   ]
  }
 ],
 "metadata": {
  "kernelspec": {
   "display_name": "Python 3",
   "language": "python",
   "name": "python3"
  },
  "language_info": {
   "codemirror_mode": {
    "name": "ipython",
    "version": 3
   },
   "file_extension": ".py",
   "mimetype": "text/x-python",
   "name": "python",
   "nbconvert_exporter": "python",
   "pygments_lexer": "ipython3",
   "version": "3.13.2"
  },
  "orig_nbformat": 4
 },
 "nbformat": 4,
 "nbformat_minor": 2
}
