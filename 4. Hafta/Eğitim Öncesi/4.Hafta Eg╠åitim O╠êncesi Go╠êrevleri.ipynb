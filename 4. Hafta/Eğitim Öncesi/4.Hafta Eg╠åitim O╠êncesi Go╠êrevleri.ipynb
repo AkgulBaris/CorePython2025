{
 "cells": [
  {
   "cell_type": "markdown",
   "metadata": {
    "id": "-My6RWLrhXIq"
   },
   "source": [
    "# Problem 1\n",
    "Sözlükleri kullanarak bir telefon rehberi yazın. Bu rehberde kullanıcıya kimin telefonunu görüntülemek istediğini sorun ve kullanıcının girdiği isme göre o kişinin telefon numarasını yazdırın. Proje sonunda elde edeceğiniz çıktı  şuna benzer olmalı:\n",
    "\n",
    "\n",
    "Lütfen numarasını öğrenmek istediğiniz kişinin adını girin: Ahmet\n",
    "\n",
    "Ahmet isimli kişinin numarası şu şekildedir: 0532 678 13 19"
   ]
  },
  {
   "cell_type": "code",
   "execution_count": null,
   "metadata": {
    "id": "LHIQEhchhXIu"
   },
   "outputs": [
    {
     "name": "stdout",
     "output_type": "stream",
     "text": [
      "Ali isimli kişinin numarası şu şekildedir: 0551 123 45 67\n"
     ]
    }
   ],
   "source": [
    "telefon_rehberi = {\n",
    "    \"Ahmet\": \"0532 678 13 19\",\n",
    "    \"Mehmet\": \"0543 234 56 78\",\n",
    "    \"Ayşe\": \"0505 987 65 43\",\n",
    "    \"Fatma\": \"0536 321 45 67\",\n",
    "    \"Ali\": \"0551 123 45 67\"\n",
    "}\n",
    "\n",
    "isim = input(\"Lütfen numarasini öğrenmek istediğiniz kişinin adini girin: \")\n",
    "\n",
    "if isim in telefon_rehberi:\n",
    "    print(f\"{isim} isimli kişinin numarasi şu şekildedir: {telefon_rehberi[isim]}\")\n",
    "else:\n",
    "    print(f\"Üzgünüm, {isim} isimli kişi rehberde bulunmamaktadir.\")\n"
   ]
  },
  {
   "cell_type": "markdown",
   "metadata": {
    "id": "rlgfjEi7hXIv"
   },
   "source": [
    "# Problem 2\n",
    "Sözlükleri kullanarak bir şirket çalışanları indeksi oluşturun. Bu isim indeksinde kişilerin isimleri key, kişilerin  memleket, yaş ve görev bilgileri value olmalıdır. Burada kullanacağımız value değerleri liste olmalıdır.\n",
    "\n",
    "\n",
    "Daha sonra bir isim sorgulama ekranı gibi kullanıcıya kimin bilgilerini görüntülemek istediğini \n",
    "sorun ve sorgulanan kişinin ekranda gösterilmesini sağlayın. Proje sonunda elde edeceğiniz çıktı şu şekilde olmalı:\n",
    "\n",
    "\n",
    "Lütfen bilgilerini görüntülemek istediğiniz çalışanın ismini girin: Mehmet Yağız\n",
    "\n",
    "Mehmet Yağız= Memleket: Adana Yaş: 40 Görev: Direktör"
   ]
  },
  {
   "cell_type": "code",
   "execution_count": 5,
   "metadata": {
    "id": "O09zrrs0hXIv"
   },
   "outputs": [
    {
     "name": "stdout",
     "output_type": "stream",
     "text": [
      "Ali Çelik = Memleket: Ankara, Yaş: 35, Görev: Proje Yöneticisi\n"
     ]
    }
   ],
   "source": [
    "calisanlar = {\n",
    "    \"Mehmet Yagiz\": [\"Adana\", 40, \"Direktör\"],\n",
    "    \"Ayşe Demir\": [\"İstanbul\", 30, \"Yazilim Geliştirici\"],\n",
    "    \"Ali Çelik\": [\"Ankara\", 35, \"Proje Yöneticisi\"],\n",
    "    \"Fatma Kaya\": [\"İzmir\", 28, \"İnsan Kaynaklari\"],\n",
    "    \"Ahmet Yildiz\": [\"Bursa\", 45, \"Finans Müdürü\"]\n",
    "}\n",
    "\n",
    "isim = input(\"Lütfen bilgilerini görüntülemek istediğiniz çalisanin ismini girin: \")\n",
    "\n",
    "if isim in calisanlar:\n",
    "    memleket, yas, gorev = calisanlar[isim]\n",
    "    print(f\"{isim} = Memleket: {memleket}, Yaş: {yas}, Görev: {gorev}\")\n",
    "else:\n",
    "    print(f\"Üzgünüm, {isim} isimli çalisan rehberde bulunmamaktadir.\")\n"
   ]
  },
  {
   "cell_type": "markdown",
   "metadata": {
    "id": "G67ztXG-hXIw"
   },
   "source": [
    "# Problem 3\n",
    "\n",
    "3 öğrenciden oluşan bir öğrenci not sözlüğü oluşturun. Bu sözlükte öğrencilerin notları value olarak bir listede toplansın.\n",
    "\n",
    "Kullanıcıya hangi öğrencinin notlarını görmek istediğini sorun. Öğrencinin notu görüntülendiğinde program sonunda şöyle bir çıktı elde etmelisiniz:\n",
    "\n",
    "```\n",
    "Lütfen notlarını görmek istediğiniz öğrencinin adını girin: Mehmet\n",
    "\n",
    "Mehmet isimli öğrencinin      1.Sınav Notu:72\n",
    "                              2.Sınav Notu:66\n",
    "                              3.Sınav Notu:48\n",
    "Not Ortalaması: 62.0\n"
   ]
  },
  {
   "cell_type": "code",
   "execution_count": 6,
   "metadata": {
    "id": "TXQ_fuCHhXIw"
   },
   "outputs": [
    {
     "name": "stdout",
     "output_type": "stream",
     "text": [
      "\n",
      "Ali isimli öğrencinin\n",
      "    1. Sinav Notu: 60\n",
      "    2. Sinav Notu: 55\n",
      "    3. Sinav Notu: 70\n",
      "Not Ortalaması: 61.7\n"
     ]
    }
   ],
   "source": [
    "ogrenci_notlari = {\n",
    "    \"Mehmet\": [72, 66, 48],\n",
    "    \"Ayşe\": [85, 90, 78],\n",
    "    \"Ali\": [60, 55, 70]\n",
    "}\n",
    "\n",
    "isim = input(\"Lütfen notlarini görmek istediğiniz öğrencinin adini girin: \")\n",
    "\n",
    "if isim in ogrenci_notlari:\n",
    "    notlar = ogrenci_notlari[isim] \n",
    "    ortalama = sum(notlar) / len(notlar)  \n",
    "    \n",
    "    print(f\"\\n{isim} isimli öğrencinin\")\n",
    "    print(f\"    1. Sinav Notu: {notlar[0]}\")\n",
    "    print(f\"    2. Sinav Notu: {notlar[1]}\")\n",
    "    print(f\"    3. Sinav Notu: {notlar[2]}\")\n",
    "    print(f\"Not Ortalaması: {ortalama:.1f}\")\n",
    "else:\n",
    "    print(f\"Üzgünüm, {isim} isimli öğrenci listede bulunmamaktadir.\")\n"
   ]
  },
  {
   "cell_type": "markdown",
   "metadata": {
    "id": "oel6A5WFhXIw"
   },
   "source": [
    "# Problem 4"
   ]
  },
  {
   "cell_type": "code",
   "execution_count": 9,
   "metadata": {
    "id": "jVRdspCrhXIx"
   },
   "outputs": [
    {
     "name": "stdout",
     "output_type": "stream",
     "text": [
      "['Bmw', 'Mercedes', 'Opel', 'Mazda']\n",
      "Listenin eleman sayısı: 4\n",
      "Listenin ilk elemanı: Bmw\n",
      "Listenin son elemanı: Mazda\n",
      "['Bmw', 'Mercedes', 'Opel', 'Toyota']\n",
      "Listenin -2 indeksindeki eleman: Opel\n",
      "Listenin ilk 3 elemanı: ['Bmw', 'Mercedes', 'Opel']\n",
      "['Bmw', 'Mercedes', 'Toyota', 'Renault']\n",
      "['Bmw', 'Mercedes', 'Toyota', 'Renault', 'Audi', 'Nissan']\n",
      "['Bmw', 'Mercedes', 'Toyota', 'Renault', 'Audi']\n",
      "['Audi', 'Renault', 'Toyota', 'Mercedes', 'Bmw']\n",
      "[['Yiğit Bilgi', 2010, (70, 60, 70)], ['Sena Turan', 1999, (80, 80, 70)], ['Ahmet Turan', 1998, (80, 70, 90)]]\n",
      "Ad: Yiğit Bilgi, Doğum Yili: 2010, Notlar: (70, 60, 70)\n",
      "Ad: Sena Turan, Doğum Yili: 1999, Notlar: (80, 80, 70)\n",
      "Ad: Ahmet Turan, Doğum Yili: 1998, Notlar: (80, 70, 90)\n",
      "['Ali', 'Yağmur', 'Hakan', 'Deniz', 'Cenk']\n",
      "['Sena', 'Ali', 'Yağmur', 'Hakan', 'Deniz']\n",
      "['Ali', 'Yağmur', 'Hakan']\n",
      "Evet, 'Ali' listenin bir elemanıdır.\n",
      "['Deniz', 'Hakan', 'Yağmur', 'Ali']\n",
      "['Ali', 'Deniz', 'Hakan', 'Yağmur']\n",
      "[1987, 1998, 1998, 2000]\n",
      "['Chevrolet', 'Dacia']\n",
      "1998 değeri listede 2 kez bulunmaktadır.\n",
      "[]\n",
      "Girilen Markalar: ['opel', 'bmw', 'mercedes']\n"
     ]
    }
   ],
   "source": [
    "# 1-  \"Bmw, Mercedes, Opel, Mazda\" elemanlarına sahip bir liste oluşturunuz.\n",
    "arabalar = [\"Bmw\", \"Mercedes\", \"Opel\", \"Mazda\"]\n",
    "print(arabalar)\n",
    "\n",
    "# 2-  Liste Kaç elemanlıdır ?\n",
    "arabalar = [\"Bmw\", \"Mercedes\", \"Opel\", \"Mazda\"]\n",
    "eleman_sayisi = len(arabalar)\n",
    "print(f\"Listenin eleman sayısı: {eleman_sayisi}\")\n",
    "\n",
    "# 3-  Listenin ilk ve son elemanı nedir ?\n",
    "arabalar = [\"Bmw\", \"Mercedes\", \"Opel\", \"Mazda\"]\n",
    "ilk_eleman = arabalar[0]\n",
    "son_eleman = arabalar[-1]\n",
    "\n",
    "print(f\"Listenin ilk elemanı: {ilk_eleman}\")\n",
    "print(f\"Listenin son elemanı: {son_eleman}\")\n",
    "\n",
    "# 4-  Mazda değerini Toyota ile değiştirin.\n",
    "arabalar = [\"Bmw\", \"Mercedes\", \"Opel\", \"Mazda\"]\n",
    "arabalar[-1] = \"Toyota\"\n",
    "print(arabalar)\n",
    "\n",
    "# 5-  Listenin -2 indeksindeki değer nedir ?\n",
    "arabalar = [\"Bmw\", \"Mercedes\", \"Opel\", \"Toyota\"]\n",
    "negatif_ikinci_eleman = arabalar[-2]\n",
    "print(f\"Listenin -2 indeksindeki eleman: {negatif_ikinci_eleman}\")\n",
    "\n",
    "\n",
    "# 6-  Listenin ilk 3 elemanını alın.\n",
    "arabalar = [\"Bmw\", \"Mercedes\", \"Opel\", \"Toyota\"]\n",
    "ilk_uc_eleman = arabalar[:3]\n",
    "print(f\"Listenin ilk 3 elemanı: {ilk_uc_eleman}\")\n",
    "\n",
    "# 7-  Listenin son 2 elemanı yerine \"Toyota\" ve \"Renault\" değerlerini ekleyin.\n",
    "arabalar = [\"Bmw\", \"Mercedes\", \"Opel\", \"Toyota\"]\n",
    "arabalar[-2:] = [\"Toyota\", \"Renault\"]\n",
    "print(arabalar)\n",
    "\n",
    "# 8-  Listenin üzerine \"Audi\" ve \"Nissan\" değerlerini ekleyin.\n",
    "arabalar = [\"Bmw\", \"Mercedes\", \"Toyota\", \"Renault\"]\n",
    "arabalar += [\"Audi\", \"Nissan\"]\n",
    "print(arabalar)\n",
    "\n",
    "# 9- Listenin son elemanını silin.\n",
    "arabalar = [\"Bmw\", \"Mercedes\", \"Toyota\", \"Renault\", \"Audi\", \"Nissan\"]\n",
    "arabalar.pop()\n",
    "print(arabalar)\n",
    "\n",
    "# 10- Liste elemanlarını tersten yazdırınız.\n",
    "arabalar = [\"Bmw\", \"Mercedes\", \"Toyota\", \"Renault\", \"Audi\"]\n",
    "arabalar.reverse()\n",
    "print(arabalar)\n",
    "\n",
    "\n",
    "\n",
    "# 11- Aşağıdaki verileri bir liste içinde saklayınız. \n",
    "\n",
    "      # studentA: Yiğit Bilgi 2010, (70,60,70)\n",
    "      # studentB: Sena Turan  1999, (80,80,70)\n",
    "      # studentC: Ahmet Turan 1998, (80,70,90) \n",
    "\n",
    "ogrenciler = [\n",
    "    [\"Yiğit Bilgi\", 2010, (70, 60, 70)],\n",
    "    [\"Sena Turan\", 1999, (80, 80, 70)],\n",
    "    [\"Ahmet Turan\", 1998, (80, 70, 90)]\n",
    "]\n",
    "print(ogrenciler)\n",
    "\n",
    "\n",
    "# 12- Liste elemanlarını ekrana yazdırınız.\n",
    "ogrenciler = [\n",
    "    [\"Yiğit Bilgi\", 2010, (70, 60, 70)],\n",
    "    [\"Sena Turan\", 1999, (80, 80, 70)],\n",
    "    [\"Ahmet Turan\", 1998, (80, 70, 90)]\n",
    "]\n",
    "\n",
    "for ogrenci in ogrenciler:\n",
    "    ad, dogum_yili, notlar = ogrenci  # Verileri değişkenlere ata\n",
    "    print(f\"Ad: {ad}, Doğum Yili: {dogum_yili}, Notlar: {notlar}\")\n",
    "\n",
    "\n",
    "\n",
    "\n",
    "  \n",
    "names = ['Ali','Yağmur','Hakan','Deniz']\n",
    "years = [1998, 2000, 1998, 1987]\n",
    "\n",
    "# 13-  \"Cenk\" ismini listenin sonuna ekleyiniz.\n",
    "names = ['Ali', 'Yağmur', 'Hakan', 'Deniz']\n",
    "names.append(\"Cenk\")\n",
    "print(names)\n",
    "\n",
    "\n",
    "\n",
    "# 14-  \"Sena\" değerini listenin başına ekleyiniz.\n",
    "names = ['Ali', 'Yağmur', 'Hakan', 'Deniz']\n",
    "names.insert(0, \"Sena\")\n",
    "print(names)\n",
    "\n",
    "\n",
    "# 15-  \"Deniz\" ismini listeden siliniz.\n",
    "names = ['Ali', 'Yağmur', 'Hakan', 'Deniz']\n",
    "names.remove(\"Deniz\")\n",
    "print(names)\n",
    "\n",
    "\n",
    "# 16-  \"Ali\" listenin bir elemanı mıdır ?\n",
    "names = ['Ali', 'Yağmur', 'Hakan', 'Deniz']\n",
    "if \"Ali\" in names:\n",
    "    print(\"Evet, 'Ali' listenin bir elemanıdır.\")\n",
    "else:\n",
    "    print(\"Hayır, 'Ali' listede bulunmamaktadır.\")\n",
    "\n",
    "\n",
    "# 17-  Liste elemanlarını ters çevirin.\n",
    "names = ['Ali', 'Yağmur', 'Hakan', 'Deniz']\n",
    "names.reverse()\n",
    "print(names)\n",
    "\n",
    "# 18-  Liste elemanlarını alfabetik olarak sıralayınız.\n",
    "names = ['Ali', 'Yağmur', 'Hakan', 'Deniz']\n",
    "names.sort()\n",
    "print(names)\n",
    "\n",
    "\n",
    "# 19-  years listesini rakamsal büyüklüğe göre sıralayınız.\n",
    "years = [1998, 2000, 1998, 1987]\n",
    "years.sort()\n",
    "print(years)\n",
    "\n",
    "# 20-  str = \"Chevrolet,Dacia\" karakter dizisini listeye çeviriniz.\n",
    "car_brands = \"Chevrolet,Dacia\"\n",
    "car_list = car_brands.split(\",\")\n",
    "print(car_list)\n",
    "\n",
    "\n",
    "# 21- years dizisinde kaç tane 1998 değeri vardır ?\n",
    "years = [1998, 2000, 1998, 1987]\n",
    "adet_1998 = years.count(1998)\n",
    "print(f\"1998 değeri listede {adet_1998} kez bulunmaktadır.\")\n",
    "\n",
    "\n",
    "# 22- years dizisinin tüm elemanlarını siliniz.\n",
    "years = [1998, 2000, 1998, 1987]\n",
    "years.clear()\n",
    "print(years)\n",
    "\n",
    "\n",
    "# 23- Kullanıcıdan alacağınız 3 tane marka bilgisini bir listede saklayınız.\n",
    "markalar = []\n",
    "markalar.append(input(\"1. Markayı girin: \"))\n",
    "markalar.append(input(\"2. Markayı girin: \"))\n",
    "markalar.append(input(\"3. Markayı girin: \"))\n",
    "print(\"Girilen Markalar:\", markalar)\n",
    "\n",
    "\n"
   ]
  }
 ],
 "metadata": {
  "colab": {
   "provenance": []
  },
  "kernelspec": {
   "display_name": "Python 3",
   "language": "python",
   "name": "python3"
  },
  "language_info": {
   "codemirror_mode": {
    "name": "ipython",
    "version": 3
   },
   "file_extension": ".py",
   "mimetype": "text/x-python",
   "name": "python",
   "nbconvert_exporter": "python",
   "pygments_lexer": "ipython3",
   "version": "3.13.2"
  },
  "orig_nbformat": 4
 },
 "nbformat": 4,
 "nbformat_minor": 0
}
