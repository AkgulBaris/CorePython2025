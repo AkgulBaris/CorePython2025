{
 "cells": [
  {
   "attachments": {},
   "cell_type": "markdown",
   "metadata": {},
   "source": [
    "# Problem 1"
   ]
  },
  {
   "cell_type": "code",
   "execution_count": null,
   "metadata": {},
   "outputs": [
    {
     "name": "stdout",
     "output_type": "stream",
     "text": [
      "Matris: [2 6 4 1 4]\n",
      "Matris boyutu: (5,)\n",
      "Yeni matris: [[2]\n",
      " [6]\n",
      " [4]\n",
      " [1]\n",
      " [4]]\n",
      "Boyut sayısı: 2\n"
     ]
    }
   ],
   "source": [
    "# 1 - numpy kütüphanesini import edin\n",
    "import numpy as np\n",
    "\n",
    "# 2 - 0 ile 10 arasında 5 sayıdan oluşan matris üretin\n",
    "matris = np.random.randint(0, 10, 5)\n",
    "print(\"Matris:\", matris)\n",
    "\n",
    "\n",
    "# 3 - matris'in boyutunu öğrenin\n",
    "print(\"Matris boyutu:\", matris.shape)\n",
    "\n",
    "# 4 - matris'i yeniden boyutlandırın\n",
    "matris = matris.reshape(5, 1)\n",
    "print(\"Yeni matris:\", matris)\n",
    "\n",
    "# 5 - matris'in boyut sayısını öğrenin\n",
    "print(\"Boyut sayisi:\", matris.ndim)"
   ]
  },
  {
   "attachments": {},
   "cell_type": "markdown",
   "metadata": {},
   "source": [
    "# Problem 2"
   ]
  },
  {
   "cell_type": "code",
   "execution_count": 3,
   "metadata": {},
   "outputs": [
    {
     "name": "stdout",
     "output_type": "stream",
     "text": [
      "Matris: [1 3 5 7 9]\n",
      "Parca 1: [1 3 5]\n",
      "Parca 2: [7 9]\n",
      "Birlesmis Matris: [1 3 5 7 9]\n"
     ]
    }
   ],
   "source": [
    "import numpy as np\n",
    "\n",
    "# 1. Tek sayılardan matris üret\n",
    "tek_sayilar = np.arange(1, 10, 2)\n",
    "print(\"Matris:\", tek_sayilar)\n",
    "\n",
    "# 2. Matris parçala\n",
    "parca1 = tek_sayilar[:3]\n",
    "parca2 = tek_sayilar[3:]\n",
    "\n",
    "print(\"Parca 1:\", parca1)\n",
    "print(\"Parca 2:\", parca2)\n",
    "\n",
    "# 3. Parçalanmış matrisleri birleştir\n",
    "birlesmis = np.concatenate((parca1, parca2))\n",
    "print(\"Birlesmis Matris:\", birlesmis)\n",
    "\n"
   ]
  },
  {
   "attachments": {},
   "cell_type": "markdown",
   "metadata": {},
   "source": [
    "# Problem 3"
   ]
  },
  {
   "cell_type": "code",
   "execution_count": 4,
   "metadata": {},
   "outputs": [
    {
     "name": "stdout",
     "output_type": "stream",
     "text": [
      "Matris: [51 23 89 59 87 43 41 33 61 65]\n",
      "Matris boyutu (shape): (10,)\n",
      "Matris boyut sayisi (ndim): 1\n",
      "Matris eleman tipi (dtype): int64\n",
      "Matris toplam eleman sayisi (size): 10\n"
     ]
    }
   ],
   "source": [
    "import numpy as np\n",
    "\n",
    "# 1. Matris oluştur\n",
    "sayilar = np.arange(5, 100, 2)\n",
    "matris = np.random.choice(sayilar, 10, replace=False)\n",
    "print(\"Matris:\", matris)\n",
    "\n",
    "# 2. Matris özelliklerini incele\n",
    "print(\"Matris boyutu (shape):\", matris.shape)\n",
    "print(\"Matris boyut sayisi (ndim):\", matris.ndim)\n",
    "print(\"Matris eleman tipi (dtype):\", matris.dtype)\n",
    "print(\"Matris toplam eleman sayisi (size):\", matris.size)"
   ]
  }
 ],
 "metadata": {
  "kernelspec": {
   "display_name": "Python 3",
   "language": "python",
   "name": "python3"
  },
  "language_info": {
   "codemirror_mode": {
    "name": "ipython",
    "version": 3
   },
   "file_extension": ".py",
   "mimetype": "text/x-python",
   "name": "python",
   "nbconvert_exporter": "python",
   "pygments_lexer": "ipython3",
   "version": "3.13.2"
  },
  "orig_nbformat": 4,
  "vscode": {
   "interpreter": {
    "hash": "5026d2d6e7aaaaba093def813beadff083d8733e4a511af01735cbabd156995d"
   }
  }
 },
 "nbformat": 4,
 "nbformat_minor": 2
}
