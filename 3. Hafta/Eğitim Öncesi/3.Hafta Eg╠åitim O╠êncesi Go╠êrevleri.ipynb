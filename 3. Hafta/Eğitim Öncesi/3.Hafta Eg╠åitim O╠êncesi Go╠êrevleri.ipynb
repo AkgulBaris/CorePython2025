{
  "cells": [
    {
      "cell_type": "markdown",
      "metadata": {
        "id": "tsD4YVAe_Te2"
      },
      "source": [
        "# Problem 1\n",
        "Bir sayının 7'ye bölünebilir olup olmadığını kontrol etmek \n",
        "için bir program yazın.\n",
        "\n",
        "İpucu: Mod operatörünü (%) kullanabilirsiniz."
      ]
    },
    {
      "cell_type": "code",
      "execution_count": 2,
      "metadata": {
        "id": "NGjvNwKx_Te7"
      },
      "outputs": [
        {
          "name": "stdout",
          "output_type": "stream",
          "text": [
            "48 sayisi 7'ye tam bolunmemektedir.\n"
          ]
        }
      ],
      "source": [
        "sayi = int(input(\"Lutfen Bir Sayi Giriniz: \"))\n",
        "if sayi % 7 == 0:\n",
        "     print(f\"{sayi} sayisi 7'ye tam bolunmektedir. \")\n",
        "else: \n",
        "     print(f\"{sayi} sayisi 7'ye tam bolunmemektedir.\")\n"
      ]
    },
    {
      "cell_type": "markdown",
      "metadata": {
        "id": "Kg3qiBAI_Te8"
      },
      "source": [
        "# Problem 2\n",
        "Kullanıcıdan vize ve final notu isteyin. Girilen vize notunun %40’ı ve \n",
        "girilen finalnotunun ise %60’ı alınarak yıl sonu not ortalaması hesaplanacaktır. \n",
        "\n",
        "Bu not ortalaması eğer 85 ve üzeri ise AA, \n",
        "\n",
        "75 ve 85 arasında ise BA, \n",
        "\n",
        "70 ve 75 arasında ise BB, \n",
        "\n",
        "65 ve 70 arasında ise CB,\n",
        "\n",
        "60 ve 65 arasında ise CC,\n",
        "\n",
        "55 ve 60 arasında ise DC,\n",
        "\n",
        "50 ve 55 arasında ise DD olarak hesaplanacaktır. \n",
        "\n",
        "Bu öğrencinin yıl sonu toplam notu 50’nin altında ise FF ile dersten kalacaktır. \n",
        "\n",
        "Ayrıca öğrencinin final notu 50’nin altında ise direkt FF ile kalacaktır."
      ]
    },
    {
      "cell_type": "code",
      "execution_count": 8,
      "metadata": {
        "id": "MXTtCxI1_Te8"
      },
      "outputs": [
        {
          "name": "stdout",
          "output_type": "stream",
          "text": [
            "Yil sonu not ortalamaniz: 51.00\n",
            "Harf Notunuz: DD\n"
          ]
        }
      ],
      "source": [
        "vizeNotu = float(input(\"Lutfen Vize Notunuzu Giriniz: \"))\n",
        "finalNotu = float(input(\"Lutfen Final Notunuzu Giriniz: \"))\n",
        "\n",
        "if finalNotu < 50:\n",
        "    print(f\"Final Notunuz 50'nin altinda olduğu icin dersten kaldiniz\")\n",
        "\n",
        "else:\n",
        "    yilSonuNotu = (vizeNotu*40/100) + (finalNotu*60/100)\n",
        "\n",
        "if 85 <= yilSonuNotu <= 100:\n",
        "    harf_notu = \"AA\"\n",
        "\n",
        "elif 75 <= yilSonuNotu < 85:\n",
        "    harf_notu = \"BA\"\n",
        "\n",
        "elif 70 <= yilSonuNotu < 75:\n",
        "    harf_notu = \"BB\"\n",
        "\n",
        "elif 65 <= yilSonuNotu < 70:\n",
        "    harf_notu = \"CB\"\n",
        "\n",
        "elif 60 <= yilSonuNotu < 65:\n",
        "    harf_notu = \"CC\"\n",
        "\n",
        "elif 55 <= yilSonuNotu < 60:\n",
        "    harf_notu = \"DC\"\n",
        "\n",
        "elif 50 <= yilSonuNotu < 55:\n",
        "    harf_notu = \"DD\"\n",
        "\n",
        "else: harf_notu = \"FF\"\n",
        "\n",
        "print(f\"Yil sonu not ortalamaniz: {yilSonuNotu:.2f}\")\n",
        "print(f\"Harf Notunuz: {harf_notu}\")\n"
      ]
    },
    {
      "cell_type": "markdown",
      "metadata": {
        "id": "tAoRYCTC_Te8"
      },
      "source": [
        "# Problem 3\n",
        "İki YetGenli Zirve'de karşılaşıyorlar. Birbirlerini tanımak için sorular soruyorlar. Birbirlerine yaşlarını soruyorlar. Akıllarına bir Python programı yazıp, yaşlarını ve isimlerini giriyorlar. Büyük olanın yaşını ekrana yazdıran programı yazıyorlar. Sende bu iki YetGenli'ye destek olmak ister misin?\n",
        "\n",
        "```\n",
        "Birinci YetGenlinin ismi: Ahmet\n",
        "Birinci YetGenlinin yaşı : 20\n",
        "İkinci YetGenlinin ismi: Mehmet\n",
        "İkinci YetGenlinin yaşı : 25\n",
        "Mehmet'in yaşı daha büyük ve yaşı 25'tir.\n",
        "```"
      ]
    },
    {
      "cell_type": "code",
      "execution_count": 12,
      "metadata": {
        "id": "bPjE8W0i_Te8"
      },
      "outputs": [
        {
          "name": "stdout",
          "output_type": "stream",
          "text": [
            "okan'in yasi daha buyuktur ve yasi 29'dir.\n"
          ]
        }
      ],
      "source": [
        "name1 = input(\"Lutfen Birinci YetGen'linin Ismini Giriniz: \")\n",
        "old1 = int(input(f\"Lutfen {name1}'in Yasini Giriniz: \"))\n",
        "\n",
        "name2 = input(\"Lutfen Ikinci YetGen'linin Ismini Giriniz: \")\n",
        "old2 = int(input(f\"Lutfen {name2}'in Yasini Giriniz: \"))\n",
        "\n",
        "if old1 > old2:\n",
        "    print(f\"{name1}'in yasi daha buyuktur ve yasi {old1}'dir.\")\n",
        "\n",
        "elif old2 > old1:\n",
        "    print(f\"{name2}'in yasi daha buyuktur ve yasi {old2}'dir.\")\n",
        "\n",
        "else:\n",
        "    print(f\"{name1} ile {name2} ayni yastalardir. Yaslari: {old1}'dir.\")"
      ]
    },
    {
      "cell_type": "markdown",
      "metadata": {
        "id": "zBVv8Tyg_Te9"
      },
      "source": [
        "# Problem 4\n",
        "Pandemi döneminde AVM'lerde ateş ölçümü yapılıyor. AVM'ye giren kişinin ateş ölçümü 37.5 derecenin altında ise girişe izin veriliyor. 37.5 derecenin üstünde ise girişe izin verilmiyor. AVM'ye girişe izin verilip verilmediğini ekrana yazdıran bir program yazın.\n",
        "\n",
        "Program sonunda şöyle bir çıktı elde etmelisiniz:\n",
        "\n",
        "```\n",
        "Ateşiniz 37.5 derece. AVM'ye girebilirsin! Maske takmayı unutma!\n",
        "Ateşiniz 37.6 derece. AVM'ye giremezsin! Hemen evine dön!\n",
        "```"
      ]
    },
    {
      "cell_type": "code",
      "execution_count": 16,
      "metadata": {
        "id": "TSAXs8et_Te9"
      },
      "outputs": [
        {
          "name": "stdout",
          "output_type": "stream",
          "text": [
            "Atesiniz 37.4 derecedir. AVM'ye girebilirsin! Maske takmayi unutmayiz!\n"
          ]
        }
      ],
      "source": [
        "ates = float(input(\"Lutfen ates derecenizi giriniz: \"))\n",
        "\n",
        "if ates <= 37.5:\n",
        "    print(f\"Atesiniz {ates:.1f} derecedir. AVM'ye girebilirsin! Maske takmayi unutmayiz!\")\n",
        "\n",
        "else:\n",
        "    print(f\"Atesiniz {ates:.1f} derecedir. AVM'ye giremezsiniz! Hemen evinize donun!\")             "
      ]
    },
    {
      "cell_type": "markdown",
      "metadata": {
        "id": "6AEkZrDt_Te9"
      },
      "source": [
        "# Problem 5\n",
        "YetGen bir spor kulübüyle sponsorluk anlaşması yapıyor. Kulüp, sponsorluk anlaşmasına göre her YetGen liderinin beden kitle indeksini hesaplamak istiyor. Spor kulübü, beden kitle indeksini hesaplamak için YetGen Jump Python liderlerinden Berkcan ve Ahmet'i arıyor. Berkcan ve Ahmet, kulübe yardımcı olmak için bir Python programı yazıyorlar. Sende bu iki YetGen liderine destek olmak ister misin?\n",
        "\n",
        "Kullanıcıdan alınan boy ve kilo değerlerine göre beden kitle indeksini hesaplayın ve şu kurallara göre ekrana şu yazıları yazdırın.\n",
        "\n",
        "\n",
        "Beden Kitle İndeksi, kişinin ağırlığının (kg olarak) boyunun karesine (m olarak) bölünmesiyle hesaplanır.\n",
        "\n",
        "\n",
        "```\n",
        " BKİ 18.5'un altındaysa -------> Zayıf\n",
        "\n",
        " BKİ 18.5 ile 25 arasındaysa ------> Normal\n",
        "\n",
        " BKİ 25 ile 30 arasındaysa --------> Fazla Kilolu\n",
        "\n",
        " BKİ 30'un üstündeyse -------------> Obez\n",
        "```\n",
        "\n"
      ]
    },
    {
      "cell_type": "code",
      "execution_count": 25,
      "metadata": {
        "id": "t-XPI_u0_Te-"
      },
      "outputs": [
        {
          "name": "stdout",
          "output_type": "stream",
          "text": [
            "Beden Kitle Endeksiniz: 46.87\n",
            "Durumunuz: Obez\n"
          ]
        }
      ],
      "source": [
        "boy = float(input(\"Lutfen boyunuzu metre cinsinden giriniz: \"))\n",
        "kilo = float(input(\"Lutfen kilonuzu kilogram cinsinden giriniz: \"))\n",
        "bki = kilo / (boy**2)\n",
        "\n",
        "if bki < 18.5:\n",
        "    durum = \"Zayif\"\n",
        "\n",
        "elif 18.5 <= bki < 25:\n",
        "    durum = \"Normal\"\n",
        "\n",
        "elif 25 <= bki < 30:\n",
        "    durum = \"Fazla Kilolu\"\n",
        "\n",
        "else: \n",
        "    durum = \"Obez\"\n",
        "\n",
        "print(f\"Beden Kitle Endeksiniz: {bki:.2f}\")\n",
        "print(f\"Durumunuz: {durum}\")"
      ]
    },
    {
      "cell_type": "markdown",
      "metadata": {
        "id": "oFsvQyaO_Te-"
      },
      "source": [
        "# Problem 6\n",
        "Kullanıcıdan isim, yaş ve eğitim bilgilerini isteyip ehliyet alabilme  durumunu kontrol ediniz. \n",
        "\n",
        "Ehliyet alma koşulu en az 18 yaşında ve eğitim durumu lise ya da üniversite olmalıdır. "
      ]
    },
    {
      "cell_type": "code",
      "execution_count": 29,
      "metadata": {
        "id": "Tu2mcgco_Te-"
      },
      "outputs": [
        {
          "name": "stdout",
          "output_type": "stream",
          "text": [
            "Tebrikler eren say, ehliyet alabilirsiniz.\n"
          ]
        }
      ],
      "source": [
        "isim = input(\"Lutfen Isminizi Giriniz: \")\n",
        "soyisim = input(\"Lutfen Soyisminizi Giriniz: \")\n",
        "yas = int(input(\"Lutfen Yasinizi Giriniz: \"))\n",
        "egitim = input(\"Lutfen Egitim Durumunuzu Giriniz: \")\n",
        "\n",
        "if yas >= 18 and egitim == \"lise\" or egitim == \"universite\":\n",
        "    print(f\"Tebrikler {isim} {soyisim}, ehliyet alabilirsiniz.\")\n",
        "\n",
        "elif yas >= 18 and egitim == \"ilkokul\":\n",
        "    print(f\"İlkokul mezunu oldugunuz için ehliyet alamazsiniz.\")\n",
        "\n",
        "elif yas >= 18 and egitim == \"ortaokul\":\n",
        "    print(f\"Ortaokul mezunu oldugunuz için ehliyet alamazsiniz.\")\n",
        "\n",
        "else:\n",
        "    yas < 18\n",
        "    print(f\"18 yasindan kucuk oldugunuz için ehliyet alamazsiniz.\")"
      ]
    },
    {
      "cell_type": "markdown",
      "metadata": {
        "id": "eUkxVSAE_Te_"
      },
      "source": [
        "# Problem 7\n",
        "Bir yılın artık yıl olup olmadığını kontrol etmek için bir program yazın. \n",
        "Artık yıl kuralı:\n",
        "\n",
        "a) Eğer yılın son iki basamağı (00) ile bitmiyor ve yalnızca 4'e tam bölünüyorsa artık yıldır. Ya da, \n",
        "\n",
        "b) Eğer yıl 400'e tam bölünüyorsa artık yıldır.\n",
        "\n",
        "**Örneğin**\n",
        "```\n",
        "2017 artık yıl değildir.\n",
        "1900 artık yıl değildir\n",
        "2012 artık yıldır.\n",
        "2000 artık yıldır.\n",
        "```"
      ]
    },
    {
      "cell_type": "code",
      "execution_count": 42,
      "metadata": {
        "id": "4uWh8qUL_Te_"
      },
      "outputs": [
        {
          "name": "stdout",
          "output_type": "stream",
          "text": [
            "2000 artik yildir.\n"
          ]
        }
      ],
      "source": [
        "yil = int(input(\"Lutfen Yili Giriniz: \"))\n",
        "\n",
        "if (yil % 4 == 0 and yil % 100 != 0) or (yil % 400 == 0):\n",
        "    print(f\"{yil} artik yildir.\")\n",
        "\n",
        "else:\n",
        "    print(f\"{yil} artik yil degildir.\")"
      ]
    }
  ],
  "metadata": {
    "colab": {
      "provenance": []
    },
    "kernelspec": {
      "display_name": "Python 3",
      "language": "python",
      "name": "python3"
    },
    "language_info": {
      "codemirror_mode": {
        "name": "ipython",
        "version": 3
      },
      "file_extension": ".py",
      "mimetype": "text/x-python",
      "name": "python",
      "nbconvert_exporter": "python",
      "pygments_lexer": "ipython3",
      "version": "3.13.2"
    },
    "orig_nbformat": 4
  },
  "nbformat": 4,
  "nbformat_minor": 0
}
